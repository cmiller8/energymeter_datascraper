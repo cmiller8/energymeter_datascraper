{
 "cells": [
  {
   "cell_type": "markdown",
   "metadata": {},
   "source": [
    "# Scraping data from an energy meter url at 5 min intervals\n",
    "\n",
    "Clayton Miller\n",
    "Sept 28, 2016\n",
    "\n",
    "The goal of this analysis is to adderess this question:\n",
    "\n",
    "```\n",
    "Hi Clayton,\n",
    "\n",
    "We are working with IES Corp to access existing and ongoing interval data from a building in NYC. Each meter can be read every 5 minutes from a URL (ex: http://meterdata.iescorp.us/api/readex/52fd665f-8519-11e6-9e4d-001851c6256e). Ideally we will have these links for all the meters and we can just automatically collect the data as it comes in. The problem is that the website only shows the mot recent 5 minute interval. I tried using a web scraping tool but couldn't get it to automatically collect the data every 5 minutes with a time stamp. Do you know of a tool that could do that? \n",
    "\n",
    "Thanks,\n",
    "Amy\n",
    "```"
   ]
  },
  {
   "cell_type": "markdown",
   "metadata": {},
   "source": [
    "First, we load a few very common libraries -- you can install Python and these two libraries using the Anaconda distribution: https://www.continuum.io/downloads"
   ]
  },
  {
   "cell_type": "code",
   "execution_count": 8,
   "metadata": {
    "collapsed": true
   },
   "outputs": [],
   "source": [
    "import pandas as pd\n",
    "import seaborn as sns\n",
    "%matplotlib inline"
   ]
  },
  {
   "cell_type": "markdown",
   "metadata": {},
   "source": [
    "Now we can grab a reading from the url"
   ]
  },
  {
   "cell_type": "code",
   "execution_count": 38,
   "metadata": {
    "collapsed": false
   },
   "outputs": [],
   "source": [
    "reading = pd.read_csv(\"http://meterdata.iescorp.us/api/readex/52fd665f-8519-11e6-9e4d-001851c6256e\", header=None)"
   ]
  },
  {
   "cell_type": "code",
   "execution_count": 39,
   "metadata": {
    "collapsed": false
   },
   "outputs": [
    {
     "data": {
      "text/html": [
       "<div>\n",
       "<table border=\"1\" class=\"dataframe\">\n",
       "  <thead>\n",
       "    <tr style=\"text-align: right;\">\n",
       "      <th></th>\n",
       "      <th>0</th>\n",
       "    </tr>\n",
       "  </thead>\n",
       "  <tbody>\n",
       "    <tr>\n",
       "      <th>0</th>\n",
       "      <td>72</td>\n",
       "    </tr>\n",
       "  </tbody>\n",
       "</table>\n",
       "</div>"
      ],
      "text/plain": [
       "    0\n",
       "0  72"
      ]
     },
     "execution_count": 39,
     "metadata": {},
     "output_type": "execute_result"
    }
   ],
   "source": [
    "reading"
   ]
  },
  {
   "cell_type": "markdown",
   "metadata": {},
   "source": [
    "We need a timestamp, we could just use Python to get the timestamp of our computer"
   ]
  },
  {
   "cell_type": "code",
   "execution_count": 69,
   "metadata": {
    "collapsed": false
   },
   "outputs": [
    {
     "name": "stdout",
     "output_type": "stream",
     "text": [
      "2016-09-28 19:28:35.517094\n"
     ]
    }
   ],
   "source": [
    "import datetime\n",
    "import time\n",
    "print datetime.datetime.utcnow()"
   ]
  },
  {
   "cell_type": "code",
   "execution_count": 41,
   "metadata": {
    "collapsed": false
   },
   "outputs": [],
   "source": [
    "reading[\"timestamp\"] = datetime.datetime.utcnow()"
   ]
  },
  {
   "cell_type": "code",
   "execution_count": 42,
   "metadata": {
    "collapsed": false
   },
   "outputs": [
    {
     "data": {
      "text/html": [
       "<div>\n",
       "<table border=\"1\" class=\"dataframe\">\n",
       "  <thead>\n",
       "    <tr style=\"text-align: right;\">\n",
       "      <th></th>\n",
       "      <th>0</th>\n",
       "      <th>timestamp</th>\n",
       "    </tr>\n",
       "  </thead>\n",
       "  <tbody>\n",
       "    <tr>\n",
       "      <th>0</th>\n",
       "      <td>72</td>\n",
       "      <td>2016-09-28 17:01:59.780810</td>\n",
       "    </tr>\n",
       "  </tbody>\n",
       "</table>\n",
       "</div>"
      ],
      "text/plain": [
       "    0                  timestamp\n",
       "0  72 2016-09-28 17:01:59.780810"
      ]
     },
     "execution_count": 42,
     "metadata": {},
     "output_type": "execute_result"
    }
   ],
   "source": [
    "reading"
   ]
  },
  {
   "cell_type": "markdown",
   "metadata": {},
   "source": [
    "Now we'll rearrange the dataframe"
   ]
  },
  {
   "cell_type": "code",
   "execution_count": 43,
   "metadata": {
    "collapsed": false
   },
   "outputs": [],
   "source": [
    "reading.index = reading.timestamp\n",
    "reading.columns = [\"value\",\"timestamp\"]\n",
    "reading = pd.DataFrame(reading[\"value\"])"
   ]
  },
  {
   "cell_type": "code",
   "execution_count": 44,
   "metadata": {
    "collapsed": false
   },
   "outputs": [
    {
     "data": {
      "text/html": [
       "<div>\n",
       "<table border=\"1\" class=\"dataframe\">\n",
       "  <thead>\n",
       "    <tr style=\"text-align: right;\">\n",
       "      <th></th>\n",
       "      <th>value</th>\n",
       "    </tr>\n",
       "    <tr>\n",
       "      <th>timestamp</th>\n",
       "      <th></th>\n",
       "    </tr>\n",
       "  </thead>\n",
       "  <tbody>\n",
       "    <tr>\n",
       "      <th>2016-09-28 17:01:59.780810</th>\n",
       "      <td>72</td>\n",
       "    </tr>\n",
       "  </tbody>\n",
       "</table>\n",
       "</div>"
      ],
      "text/plain": [
       "                            value\n",
       "timestamp                        \n",
       "2016-09-28 17:01:59.780810     72"
      ]
     },
     "execution_count": 44,
     "metadata": {},
     "output_type": "execute_result"
    }
   ],
   "source": [
    "reading"
   ]
  },
  {
   "cell_type": "markdown",
   "metadata": {},
   "source": [
    "Now we can create a loop that will grab the measurement every X time. Let's test with 10 seconds"
   ]
  },
  {
   "cell_type": "code",
   "execution_count": 62,
   "metadata": {
    "collapsed": true
   },
   "outputs": [],
   "source": [
    "start_time = datetime.datetime.utcnow()"
   ]
  },
  {
   "cell_type": "code",
   "execution_count": 63,
   "metadata": {
    "collapsed": false
   },
   "outputs": [],
   "source": [
    "delta = start_time - datetime.datetime.utcnow()"
   ]
  },
  {
   "cell_type": "code",
   "execution_count": 64,
   "metadata": {
    "collapsed": false
   },
   "outputs": [
    {
     "data": {
      "text/plain": [
       "-0.502237"
      ]
     },
     "execution_count": 64,
     "metadata": {},
     "output_type": "execute_result"
    }
   ],
   "source": [
    "delta.total_seconds()"
   ]
  },
  {
   "cell_type": "code",
   "execution_count": null,
   "metadata": {
    "collapsed": false
   },
   "outputs": [
    {
     "name": "stdout",
     "output_type": "stream",
     "text": [
      "Starting data collection\n"
     ]
    }
   ],
   "source": [
    "measurements = pd.DataFrame()\n",
    "time_between_readings_sec = 10\n",
    "max_time_sec = 60\n",
    "\n",
    "should_restart = True\n",
    "start_time = datetime.datetime.utcnow()\n",
    "while should_restart:\n",
    "    print \"Starting data collection\"\n",
    "    should_restart = False\n",
    "    \n",
    "    #get the data and timestamp and morph\n",
    "    reading = pd.read_csv(\"http://meterdata.iescorp.us/api/readex/52fd665f-8519-11e6-9e4d-001851c6256e\", header=None)\n",
    "    reading[\"timestamp\"] = datetime.datetime.utcnow()\n",
    "    \n",
    "    reading.index = reading.timestamp\n",
    "    reading.columns = [\"value\",\"timestamp\"]\n",
    "    reading = pd.DataFrame(reading[\"value\"])\n",
    "    \n",
    "    #add the reading to measurements dataframe\n",
    "    measurements = measurements.append(reading)\n",
    "    \n",
    "    #Sleep for the time interval\n",
    "    delta = datetime.datetime.utcnow() - start_time\n",
    "    if delta.total_seconds() < max_time_sec:\n",
    "        should_restart = True\n",
    "        time.sleep(time_between_readings_sec)\n",
    "        \n",
    "        print \"Getting another value\""
   ]
  },
  {
   "cell_type": "code",
   "execution_count": null,
   "metadata": {
    "collapsed": false
   },
   "outputs": [],
   "source": [
    "measurements"
   ]
  },
  {
   "cell_type": "code",
   "execution_count": null,
   "metadata": {
    "collapsed": true
   },
   "outputs": [],
   "source": []
  }
 ],
 "metadata": {
  "hide_input": false,
  "kernelspec": {
   "display_name": "Python 2",
   "language": "python",
   "name": "python2"
  },
  "language_info": {
   "codemirror_mode": {
    "name": "ipython",
    "version": 2
   },
   "file_extension": ".py",
   "mimetype": "text/x-python",
   "name": "python",
   "nbconvert_exporter": "python",
   "pygments_lexer": "ipython2",
   "version": "2.7.11"
  }
 },
 "nbformat": 4,
 "nbformat_minor": 0
}
